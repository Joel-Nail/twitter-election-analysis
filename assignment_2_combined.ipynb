{
 "cells": [
  {
   "cell_type": "code",
   "execution_count": 2,
   "metadata": {},
   "outputs": [
    {
     "name": "stderr",
     "output_type": "stream",
     "text": [
      "[nltk_data] Downloading package punkt to /home/rahulmr96/nltk_data...\n",
      "[nltk_data]   Package punkt is already up-to-date!\n"
     ]
    }
   ],
   "source": [
    "import pandas as pd\n",
    "from nltk.corpus import stopwords\n",
    "from nltk.tokenize import word_tokenize, sent_tokenize\n",
    "import re\n",
    "import nltk\n",
    "nltk.download('punkt')\n",
    "import matplotlib.pyplot as plt\n",
    "import numpy as np\n",
    "import seaborn as sns\n",
    "\n",
    "#nltk.download()"
   ]
  },
  {
   "cell_type": "code",
   "execution_count": 3,
   "metadata": {},
   "outputs": [],
   "source": [
    "georgia = pd.read_csv(\"georgia_files_merged.csv\", index_col=0)\n",
    "try:\n",
    "    stop_words = set(stopwords.words('english'))\n",
    "except:\n",
    "    nltk.download('stopwords')\n",
    "    stop_words = set(stopwords.words('english'))"
   ]
  },
  {
   "cell_type": "code",
   "execution_count": 4,
   "metadata": {},
   "outputs": [],
   "source": [
    "# word count\n",
    "website = re.compile(\"(?:(?:https?|ftp):\\/\\/)?[\\w/\\-?=%.]+\\.[\\w/\\-&?=%.]+\")  ###Removes URLS\n",
    "word_freq={}\n",
    "for i in georgia.iloc[:,3]:\n",
    "    i=str(i)\n",
    "    urls = set(re.findall(website, i)) \n",
    "    for url in urls:\n",
    "        i = i.replace(url, \"\")\n",
    "    i=i.lower()\n",
    "    i=word_tokenize(str(i))\n",
    "    for word in i:\n",
    "        if word not in word_freq:\n",
    "            word_freq[word]=1\n",
    "        else:\n",
    "            word_freq[word]+=1\n",
    "\n",
    "text_freq_df=pd.DataFrame({\"word\": [i for i in word_freq.keys()], \"frequency\": [i for i in word_freq.values()]})\n",
    "text_freq_df=text_freq_df.sort_values(by='frequency',ascending=False)\n",
    "top100=text_freq_df.reset_index().drop('index',axis=1).head(100)\n",
    "top100.index+=1"
   ]
  },
  {
   "cell_type": "code",
   "execution_count": 5,
   "metadata": {},
   "outputs": [
    {
     "data": {
      "text/html": [
       "<div>\n",
       "<style scoped>\n",
       "    .dataframe tbody tr th:only-of-type {\n",
       "        vertical-align: middle;\n",
       "    }\n",
       "\n",
       "    .dataframe tbody tr th {\n",
       "        vertical-align: top;\n",
       "    }\n",
       "\n",
       "    .dataframe thead th {\n",
       "        text-align: right;\n",
       "    }\n",
       "</style>\n",
       "<table border=\"1\" class=\"dataframe\">\n",
       "  <thead>\n",
       "    <tr style=\"text-align: right;\">\n",
       "      <th></th>\n",
       "      <th>word</th>\n",
       "      <th>frequency</th>\n",
       "    </tr>\n",
       "  </thead>\n",
       "  <tbody>\n",
       "    <tr>\n",
       "      <th>0</th>\n",
       "      <td>rt</td>\n",
       "      <td>10182</td>\n",
       "    </tr>\n",
       "    <tr>\n",
       "      <th>1325</th>\n",
       "      <td>senate</td>\n",
       "      <td>10000</td>\n",
       "    </tr>\n",
       "    <tr>\n",
       "      <th>1338</th>\n",
       "      <td>walker</td>\n",
       "      <td>7988</td>\n",
       "    </tr>\n",
       "    <tr>\n",
       "      <th>31</th>\n",
       "      <td>georgia</td>\n",
       "      <td>7188</td>\n",
       "    </tr>\n",
       "    <tr>\n",
       "      <th>1678</th>\n",
       "      <td>herschel</td>\n",
       "      <td>5878</td>\n",
       "    </tr>\n",
       "    <tr>\n",
       "      <th>7</th>\n",
       "      <td>ga</td>\n",
       "      <td>3922</td>\n",
       "    </tr>\n",
       "    <tr>\n",
       "      <th>280</th>\n",
       "      <td>black</td>\n",
       "      <td>2874</td>\n",
       "    </tr>\n",
       "    <tr>\n",
       "      <th>1372</th>\n",
       "      <td>warnock</td>\n",
       "      <td>2616</td>\n",
       "    </tr>\n",
       "    <tr>\n",
       "      <th>1584</th>\n",
       "      <td>abortion</td>\n",
       "      <td>2334</td>\n",
       "    </tr>\n",
       "    <tr>\n",
       "      <th>30</th>\n",
       "      <td>vote</td>\n",
       "      <td>2124</td>\n",
       "    </tr>\n",
       "  </tbody>\n",
       "</table>\n",
       "</div>"
      ],
      "text/plain": [
       "          word  frequency\n",
       "0           rt      10182\n",
       "1325    senate      10000\n",
       "1338    walker       7988\n",
       "31     georgia       7188\n",
       "1678  herschel       5878\n",
       "7           ga       3922\n",
       "280      black       2874\n",
       "1372   warnock       2616\n",
       "1584  abortion       2334\n",
       "30        vote       2124"
      ]
     },
     "execution_count": 5,
     "metadata": {},
     "output_type": "execute_result"
    }
   ],
   "source": [
    "from string import punctuation\n",
    "\n",
    "add_punc = [\"’\", \"``\", \"'s\", \"''\", \"”\", \"—\", \"“\", \"amp\", \"nan\", \",\", \".\", \":\", \"?\", \"—\", \"@\", \"&\", \";\", \"!\", \"$\", \"#\", \"-\", \"%\"]\n",
    "\n",
    "fixed_text_freq_df = text_freq_df.copy()\n",
    "\n",
    "for word in fixed_text_freq_df['word']:\n",
    "    if word in punctuation or word in add_punc or word in stop_words:\n",
    "        #print(word)\n",
    "        fixed_text_freq_df = fixed_text_freq_df.drop(fixed_text_freq_df[fixed_text_freq_df.word==word].index)\n",
    "\n",
    "\n",
    "\n",
    "\n",
    "\"\"\"cand_dict = {\"walker\":\"herschel-walker\", \"herschel\":\"herschel-walker\", \"herschelwalker\":\"herschel-walker\",\"walker\":\"herschel-walker\",\n",
    "             \"hershel\":\"herschel-walker\",\"hershell\":\"herschel-walker\",\n",
    "             \"warnock\":\"raphael-warnock\", \"raphael\":\"raphael-warnock\", \"reverendwarnock\":\"raphael-warnock\",\"reverend\":\"raphael-warnock\",\n",
    "             \"warnok\":\"raphael-warnock\",\"warnnock\":\"raphael-warnock\"}\n",
    "\"\"\"\n",
    "#print(fixed_text_freq_df[fixed_text_freq_df.word==\"abortion\"])\n",
    "\n",
    "pd.set_option('display.max_rows', None)\n",
    "fixed_text_freq_df.head(10)"
   ]
  },
  {
   "cell_type": "code",
   "execution_count": 6,
   "metadata": {},
   "outputs": [
    {
     "name": "stdout",
     "output_type": "stream",
     "text": [
      "(12732, 4)\n"
     ]
    }
   ],
   "source": [
    "#replacing democratic candidate words with warnock and republican candidate words with walker\n",
    "warnock_words = {\"rev.\", \"reverend\", \"raphael\", \"dems\", \"democrat\", \"democrats\", \"blue\",\"raphael-warnock\", \"raphael\", \"reverendwarnock\",\"reverend\",\n",
    "                 \"warnok\",\"warnnock\"}\n",
    "walker_words = {\"herschel\", \"republican\", \"republicans\", \"red\",\"walker\", \"herschel\", \"herschelwalker\",\"walker\",\n",
    "                \"hershel\",\"hershell\",\"herschel-walker\"}\n",
    "\n",
    "\n",
    "\n",
    "def build_dictionary():\n",
    "    dict = {}\n",
    "    for word in warnock_words:\n",
    "        dict[word] = \"warnock\"\n",
    "    for word in walker_words:\n",
    "        dict[word] = \"walker\"\n",
    "    return dict\n",
    "\n",
    "\n",
    "def replace_words(hashmap, tweet):\n",
    "    word_array = tweet.lower().split(\" \")\n",
    "    for i, word in enumerate(word_array):\n",
    "        if word in hashmap:\n",
    "            #print(\"Replacing {} with {}\".format(word, hashmap[word]))\n",
    "            word_array[i] = hashmap[word]\n",
    "    return \" \".join(word_array)\n",
    "\n",
    "\n",
    "def fix_df(df):\n",
    "    print(df.shape)\n",
    "    df[\"walker_present\"] = False\n",
    "    df[\"warnock_present\"] = False\n",
    "    hashmap = build_dictionary()\n",
    "    for i in range(df.shape[0]):\n",
    "        row = df.iloc[i, :]\n",
    "        if type(row[\"fixedText\"]) == str:\n",
    "            df.iloc[i, 3] = replace_words(hashmap, row[\"fixedText\"])\n",
    "            if \"walker\" in df.iloc[i, 3]:\n",
    "                df.iloc[i, 4] = True\n",
    "            if \"warnock\" in df.iloc[i, 3]:\n",
    "                df.iloc[i, 5] = True\n",
    "    return df\n",
    "\n",
    "#georgiaReplaced=georgia.copy()\n",
    "georgiaReplaced=fix_df(georgia)"
   ]
  },
  {
   "cell_type": "code",
   "execution_count": 7,
   "metadata": {},
   "outputs": [],
   "source": [
    "def clean_text(string):\n",
    "    re_dict={'rising costs':'inflation','high gas prices':'inflation','gun control':'guns','my body my choice':'abortion',\n",
    "    'rev.':'warnock', 'reverend':'warnock', 'raphael':'warnock','raphael-warnock':'warnock', 'raphael':'warnock', 'reverendwarnock':'warnock','reverend':'warnock',\n",
    "                 'warnok':'warnock','warnnock':'warnock',\"(?:(?:https?|ftp):\\/\\/)?[\\w/\\-?=%.]+\\.[\\w/\\-&?=%.]+\":'','rt ':' ',\n",
    "                 'herschel':'walker', 'herschelwalker':'walker','walker':'walker',\n",
    "                'hershel':'walker','hershell':'walker','herschel-walker':'walker','taxes':'tax','â€™':'',\n",
    "                'republican senate nominee':'walker','democratic senate nominee':'warnock'}\n",
    "    \n",
    "    #print(string, type(string))\n",
    "    msg=str.lower(str(string))\n",
    "    for key,val in re_dict.items():\n",
    "        msg=re.sub(key,val,msg)\n",
    "\n",
    "    return msg"
   ]
  },
  {
   "cell_type": "code",
   "execution_count": 8,
   "metadata": {},
   "outputs": [],
   "source": [
    "georgiaReplaced.fixedText=georgiaReplaced.fixedText.map(lambda x: clean_text(x))"
   ]
  },
  {
   "cell_type": "code",
   "execution_count": 9,
   "metadata": {},
   "outputs": [],
   "source": [
    "def calc_lift(candidate, issue):\n",
    "    #print('this is issue: ',issue)\n",
    "    a_b=0\n",
    "    n_a=0\n",
    "    n_b=0\n",
    "    if(candidate==issue):\n",
    "        return np.nan\n",
    "    for i in georgiaReplaced.fixedText:\n",
    "        #print(\"this is i\",str(i))\n",
    "        words=word_tokenize(str(i))\n",
    "        a=set(words).intersection(set({candidate, issue}))\n",
    "        if(len(a)==2):\n",
    "            a_b+=1\n",
    "            n_a+=1\n",
    "            n_b+=1\n",
    "        elif(len(a)==1):\n",
    "            if(a.pop()==candidate):\n",
    "                n_a+=1\n",
    "            else:\n",
    "                n_b+=1\n",
    "    if(n_a==0 or n_b==0):\n",
    "        return np.nan\n",
    "    else:\n",
    "        return a_b/(n_a*n_b)*len(georgiaReplaced)\n",
    "\n",
    "\n",
    "liftValues = pd.DataFrame(columns=[\"issue\",\"warnock\",\"walker\"])\n",
    "\n",
    "chosenIssues = [\"abortion\",\"gun\",\"community\",\"tax\",\"crime\",\"inflation\"]\n",
    "liftValues.issue = chosenIssues\n",
    "\n",
    "liftValues.warnock=liftValues.apply(lambda x: calc_lift(\"warnock\",str(x.issue)),axis=1)\n",
    "liftValues.walker=liftValues.apply(lambda x: calc_lift(\"walker\",str(x.issue)),axis=1)"
   ]
  },
  {
   "cell_type": "code",
   "execution_count": 10,
   "metadata": {},
   "outputs": [
    {
     "data": {
      "text/html": [
       "<div>\n",
       "<style scoped>\n",
       "    .dataframe tbody tr th:only-of-type {\n",
       "        vertical-align: middle;\n",
       "    }\n",
       "\n",
       "    .dataframe tbody tr th {\n",
       "        vertical-align: top;\n",
       "    }\n",
       "\n",
       "    .dataframe thead th {\n",
       "        text-align: right;\n",
       "    }\n",
       "</style>\n",
       "<table border=\"1\" class=\"dataframe\">\n",
       "  <thead>\n",
       "    <tr style=\"text-align: right;\">\n",
       "      <th></th>\n",
       "      <th>issue</th>\n",
       "      <th>warnock</th>\n",
       "      <th>walker</th>\n",
       "    </tr>\n",
       "  </thead>\n",
       "  <tbody>\n",
       "    <tr>\n",
       "      <th>0</th>\n",
       "      <td>abortion</td>\n",
       "      <td>0.154038</td>\n",
       "      <td>1.543104</td>\n",
       "    </tr>\n",
       "    <tr>\n",
       "      <th>1</th>\n",
       "      <td>gun</td>\n",
       "      <td>1.180101</td>\n",
       "      <td>0.765534</td>\n",
       "    </tr>\n",
       "    <tr>\n",
       "      <th>2</th>\n",
       "      <td>community</td>\n",
       "      <td>0.047775</td>\n",
       "      <td>1.918248</td>\n",
       "    </tr>\n",
       "    <tr>\n",
       "      <th>3</th>\n",
       "      <td>tax</td>\n",
       "      <td>0.683634</td>\n",
       "      <td>0.646951</td>\n",
       "    </tr>\n",
       "    <tr>\n",
       "      <th>4</th>\n",
       "      <td>crime</td>\n",
       "      <td>2.908552</td>\n",
       "      <td>0.211729</td>\n",
       "    </tr>\n",
       "    <tr>\n",
       "      <th>5</th>\n",
       "      <td>inflation</td>\n",
       "      <td>3.701628</td>\n",
       "      <td>0.378703</td>\n",
       "    </tr>\n",
       "  </tbody>\n",
       "</table>\n",
       "</div>"
      ],
      "text/plain": [
       "       issue   warnock    walker\n",
       "0   abortion  0.154038  1.543104\n",
       "1        gun  1.180101  0.765534\n",
       "2  community  0.047775  1.918248\n",
       "3        tax  0.683634  0.646951\n",
       "4      crime  2.908552  0.211729\n",
       "5  inflation  3.701628  0.378703"
      ]
     },
     "execution_count": 10,
     "metadata": {},
     "output_type": "execute_result"
    }
   ],
   "source": [
    "liftValues"
   ]
  },
  {
   "cell_type": "code",
   "execution_count": 11,
   "metadata": {
    "scrolled": true
   },
   "outputs": [],
   "source": [
    "from nltk.sentiment.vader import SentimentIntensityAnalyzer\n",
    "# nltk.download(\"all\")\n",
    "scores=[]\n",
    "scores2=[]\n",
    "\n",
    "new_words = {\n",
    "    \"party\":0,\n",
    "    \"abortion\":0,\n",
    "    \"gun\":0,\n",
    "    \"community\":0,\n",
    "    \"tax\":0,\n",
    "    \"crime\":0,\n",
    "    \"inflation\":0\n",
    "}\n",
    "\n",
    "analyzer=SentimentIntensityAnalyzer()\n",
    "\n",
    "analyzer.lexicon.update(new_words)\n",
    "\n",
    "def sentiment(issue, candidate, window=5):\n",
    "    for i in georgiaReplaced.fixedText:\n",
    "        words=word_tokenize(str(i))\n",
    "        stop_words = set(stopwords.words('english'))\n",
    "        words = [word for word in words if word not in stop_words]\n",
    "        words = [word for word in words if word not in add_punc]\n",
    "        if(len(set(words).intersection(set({issue,candidate})))==2):\n",
    "            #print(words.index('honest'),len(words))\n",
    "            a = ' '.join(e for e in words[words.index(issue)-window:words.index(issue)+window])\n",
    "            if a != \"\":\n",
    "                #print(a)\n",
    "                sentiment_score = analyzer.polarity_scores(a)['compound']\n",
    "                scores.append(sentiment_score)\n",
    "    #print(scores)\n",
    "    return np.mean(scores)"
   ]
  },
  {
   "cell_type": "code",
   "execution_count": 12,
   "metadata": {},
   "outputs": [],
   "source": [
    "sentimentsc = pd.DataFrame(columns=[\"issue\",\"sentiment_warnock\",\"sentiment_walker\"])\n",
    "\n",
    "chosenIssues = [\"abortion\",\"gun\",\"community\",\"tax\",\"crime\",\"inflation\"]\n",
    "sentimentsc.issue = chosenIssues\n",
    "\n",
    "sentimentsc.sentiment_warnock=sentimentsc.apply(lambda x: sentiment(str(x.issue),\"warnock\"),axis=1)\n",
    "sentimentsc.sentiment_walker=sentimentsc.apply(lambda x: sentiment(str(x.issue),\"walker\"),axis=1)"
   ]
  },
  {
   "cell_type": "markdown",
   "metadata": {},
   "source": [
    "We've to update the sentiments for only issues for candidates that have high lift"
   ]
  },
  {
   "cell_type": "code",
   "execution_count": 13,
   "metadata": {},
   "outputs": [
    {
     "data": {
      "text/html": [
       "<div>\n",
       "<style scoped>\n",
       "    .dataframe tbody tr th:only-of-type {\n",
       "        vertical-align: middle;\n",
       "    }\n",
       "\n",
       "    .dataframe tbody tr th {\n",
       "        vertical-align: top;\n",
       "    }\n",
       "\n",
       "    .dataframe thead th {\n",
       "        text-align: right;\n",
       "    }\n",
       "</style>\n",
       "<table border=\"1\" class=\"dataframe\">\n",
       "  <thead>\n",
       "    <tr style=\"text-align: right;\">\n",
       "      <th></th>\n",
       "      <th>issue</th>\n",
       "      <th>warnock</th>\n",
       "      <th>walker</th>\n",
       "      <th>sentiment_warnock</th>\n",
       "      <th>sentiment_walker</th>\n",
       "    </tr>\n",
       "  </thead>\n",
       "  <tbody>\n",
       "    <tr>\n",
       "      <th>0</th>\n",
       "      <td>abortion</td>\n",
       "      <td>0.154038</td>\n",
       "      <td>1.543104</td>\n",
       "      <td>-</td>\n",
       "      <td>-0.143437</td>\n",
       "    </tr>\n",
       "    <tr>\n",
       "      <th>1</th>\n",
       "      <td>gun</td>\n",
       "      <td>1.180101</td>\n",
       "      <td>0.765534</td>\n",
       "      <td>-</td>\n",
       "      <td>-0.149465</td>\n",
       "    </tr>\n",
       "    <tr>\n",
       "      <th>2</th>\n",
       "      <td>community</td>\n",
       "      <td>0.047775</td>\n",
       "      <td>1.918248</td>\n",
       "      <td>-</td>\n",
       "      <td>-0.003697</td>\n",
       "    </tr>\n",
       "    <tr>\n",
       "      <th>3</th>\n",
       "      <td>tax</td>\n",
       "      <td>0.683634</td>\n",
       "      <td>0.646951</td>\n",
       "      <td>-0.153286</td>\n",
       "      <td>-</td>\n",
       "    </tr>\n",
       "    <tr>\n",
       "      <th>4</th>\n",
       "      <td>crime</td>\n",
       "      <td>2.908552</td>\n",
       "      <td>0.211729</td>\n",
       "      <td>-0.204034</td>\n",
       "      <td>-</td>\n",
       "    </tr>\n",
       "    <tr>\n",
       "      <th>5</th>\n",
       "      <td>inflation</td>\n",
       "      <td>3.701628</td>\n",
       "      <td>0.378703</td>\n",
       "      <td>-0.258758</td>\n",
       "      <td>-</td>\n",
       "    </tr>\n",
       "  </tbody>\n",
       "</table>\n",
       "</div>"
      ],
      "text/plain": [
       "       issue   warnock    walker sentiment_warnock sentiment_walker\n",
       "0   abortion  0.154038  1.543104                 -        -0.143437\n",
       "1        gun  1.180101  0.765534                 -        -0.149465\n",
       "2  community  0.047775  1.918248                 -        -0.003697\n",
       "3        tax  0.683634  0.646951         -0.153286                -\n",
       "4      crime  2.908552  0.211729         -0.204034                -\n",
       "5  inflation  3.701628  0.378703         -0.258758                -"
      ]
     },
     "execution_count": 13,
     "metadata": {},
     "output_type": "execute_result"
    }
   ],
   "source": [
    "sentimentsc.iloc[0,1]=np.nan\n",
    "sentimentsc.iloc[1,1]=np.nan\n",
    "sentimentsc.iloc[2,1]=np.nan\n",
    "sentimentsc.iloc[3,2]=np.nan\n",
    "sentimentsc.iloc[4,2]=np.nan\n",
    "sentimentsc.iloc[5,2]=np.nan\n",
    "lift_sentiment_df=pd.merge(liftValues,sentimentsc,left_on='issue',right_on='issue')\n",
    "lift_sentiment_df.replace(np.nan,'-')"
   ]
  },
  {
   "cell_type": "markdown",
   "metadata": {},
   "source": [
    "#### INITIAL FINDINGS FROM LIFT AND SENTIMENT ANALYSIS:\n",
    "- Although there are several lift values that suggest significance, “abortion” and “guns” are the only issues that have significant higher sentiment values for the candidates\n",
    "    - This allows us to assume that abortion and guns are the issues that the candidates should focus on since public opinion is not strong one way or the other for the remaining issues\n",
    "- Although both candidates have significant lift values and negative sentiments for “guns”, advice for the candidates will differ by circumstance\n",
    "    - Warnock’s negative sentiment is most likely due to his anti-gun stances; however, Walker’s negative sentiment is most likely due to the stories about him holding a gun to his wife’s head. We can give relevant advice based on this context\n",
    "- Warnock has a significantly low sentiment value with “community” but an extremely low lift value suggests that there is a small minority of people speaking negatively about Warnock and “community”\n",
    "    - This is most likely not something that Warnock should be concerned about, but it is worth pointing out as a potential issue in the future (people seem to be upset about his relationship with the LGBT community)"
   ]
  },
  {
   "cell_type": "code",
   "execution_count": 14,
   "metadata": {},
   "outputs": [],
   "source": [
    "top5=['walker','warnock','abortion','gun','community','tax','crime','inflation']\n",
    "\n",
    "cand_lift=[]\n",
    "for i in range(0,len(top5)):\n",
    "    issue1=top5[i]\n",
    "    lst=[]\n",
    "    for j in range(0,len(top5)):\n",
    "        if(j<i):\n",
    "            lst.append(np.nan)\n",
    "        else:\n",
    "            issue2=top5[j]\n",
    "            lst.append(calc_lift(issue1,issue2))\n",
    "    cand_lift.append(lst)\n",
    "cand_lift=pd.DataFrame(cand_lift)\n",
    "cand_lift.index=top5\n",
    "cand_lift.columns=top5"
   ]
  },
  {
   "cell_type": "markdown",
   "metadata": {},
   "source": [
    "We've to then find the dissimilarity matrix to get the MDS plot "
   ]
  },
  {
   "cell_type": "code",
   "execution_count": 15,
   "metadata": {},
   "outputs": [],
   "source": [
    "cand_lift_2=(cand_lift.replace(np.nan,0)+cand_lift.T.replace(np.nan,0))\n",
    "cand_lift_2.replace(0,0.1,inplace=True)\n",
    "cand_lift_2.loc['inflation','crime']=5\n",
    "cand_lift_2.loc['crime','inflation']=5\n",
    "cand_lift_2.loc['inflation','tax']=5\n",
    "cand_lift_2.loc['tax','inflation']=5\n",
    "cand_lift_2.loc['community','gun']=0.1\n",
    "cand_lift_2.loc['gun','community']=0.1\n",
    "cand_lift_2.loc['warnock','community']=0.1\n",
    "cand_lift_2.loc['community','warnock']=0.1\n",
    "cand_dis = cand_lift_2.apply(lambda x: 1/x)\n",
    "cand_dis.replace([np.inf, -np.inf], 0, inplace=True)"
   ]
  },
  {
   "cell_type": "code",
   "execution_count": 16,
   "metadata": {},
   "outputs": [],
   "source": [
    "# code modified from GitHub user zack-tan's music lyric analysis project\n",
    "# creates a metric mds plot with annotations \n",
    "def mdsplot_generator(brand_lift_df):\n",
    "    from sklearn.manifold import MDS\n",
    "    mds = MDS(n_components=2,dissimilarity='precomputed')\n",
    "    brand_df_transformed = mds.fit_transform(brand_lift_df)\n",
    "    brand_df_transformed.shape\n",
    "\n",
    "    mds_df = pd.DataFrame(brand_df_transformed)\n",
    "    mds_df['brand'] = list(brand_lift_df.columns)\n",
    "    mds_df.columns = ['component0', 'component1', 'brand']\n",
    "\n",
    "    import matplotlib.pyplot as plt\n",
    "    from scipy.spatial import ConvexHull\n",
    "    import numpy as np\n",
    "\n",
    "    with plt.style.context('fivethirtyeight'):\n",
    "        fig, ax = plt.subplots(1, figsize=(8,8))\n",
    "\n",
    "        # plot data\n",
    "        x = mds_df.component0\n",
    "        y = mds_df.component1\n",
    "\n",
    "        plt.scatter(x, y, s=100)\n",
    "        \n",
    "        n = mds_df.brand\n",
    "        for i, txt in enumerate(n):\n",
    "            ax.annotate(txt, (x[i], y[i]))\n",
    "    plt.show()"
   ]
  },
  {
   "cell_type": "code",
   "execution_count": 17,
   "metadata": {},
   "outputs": [
    {
     "data": {
      "image/png": "[encoded data removed]",
      "text/plain": [
       "<Figure size 800x800 with 1 Axes>"
      ]
     },
     "metadata": {},
     "output_type": "display_data"
    }
   ],
   "source": [
    "mdsplot_generator(cand_dis)"
   ]
  },
  {
   "cell_type": "markdown",
   "metadata": {},
   "source": [
    "- Evaluating the lift values MDS Plot, we see that Walker is more closely associated with abortion and Warnock is more closely associated with guns.\n",
    "    - In the case of Walker, this is most likely because of the recent news that he paid for the abortion of a partner. Given this context and the negative sentiment surrounding the issue, we recommend Walker to avoid emphasizing the typically important GOP talking point to distance himself from the issue. \n",
    "    - In the case of Warnock, we recommend that he further associate himself with the issue of gun violence, especially in relation to the allocations of gun-related domestic violence levied against his opponent. However, because of the low sentiment value, we suggest he frame his position around the reduction of violence as it relates to guns, \n",
    "    careful to not project the impression that he would erode the rights of responsible gun owners.\n",
    "- As the MDS plot demonstrates, Warnock is disassociated with community more so than any other issue. If our assumption about the relation to the LGBT Community is correct, this poses an opportunity for Warnock to more closely associate himself with the community and attempt to stimulate positive conversation.\n",
    "    - This suggestion is already underway, evident in his recent attendance of the Atlanta Pride Parade\n",
    "    - This is a good opportunity because the low lift value hints that Warnock will not suffer in the minds of many of he chooses not to act, but the opportunity to generate positive association is available to him if needed.\n"
   ]
  },
  {
   "cell_type": "markdown",
   "metadata": {},
   "source": [
    "- A word on MDS plot:\n",
    "    - Because the plot is mapping both relationships of candidates to issues and issues to issues, there are some items on the plot that cannot be perfectly representative of the data used to create it.\n",
    "    - An example of this can be see with ‘Crime’ as it relates to Warnock and Walker. As the lift values show, ‘Crime’ should be more associated with Warnock, however it appears closer to Walker on the graph. This is due to the disassociation that needs to be represented in relation to the other issues on the graph.\n",
    "- As with any MDS, we are attempting to reduce multiple relationships into two dimensions, meaning information will be lost. Because of this, we recommend that this MDS should be used as a starting point, but specific investigation of candidates and issues should be graphically represented by reducing the amount of issues represented, and therefore the potential noise that can influence interpretation."
   ]
  },
  {
   "cell_type": "code",
   "execution_count": 18,
   "metadata": {},
   "outputs": [],
   "source": [
    "big_cities_ga = ['Atlanta','Columbus, GA','Columbus, Georgia','Augusta','Savannah','Athens','ATL',\n",
    "                'Decatur','Suwanee']\n",
    "small_cities_ga = ['Ackworth','Albany, GA','Albany, Georgia''Alpharetta','Austell',\n",
    "                  'Barnesville','Barrow County','Blairsville','Buford','Carrollton','Centerville',\n",
    "                  'Cumming','Dahlonega','Dalton','Dawsonville','Duluth','Gainesville','Harlem',\n",
    "                  'Hephzibah','Hinesville','Jackson','Jasper','Kingsland','Lawrenceville','Lilburn',\n",
    "                  'Lula','Macon','Madison, GA','Madison, Georgia','Marietta','Newnan','Peachtree Corners','Powder Springs',\n",
    "                  'Reidsville','Ringgold','Roswell','Smryna','Snellville','Statesboro','Stone Mountain',\n",
    "                  'Stonecrest','Stockbridge','Summerville','Temple','Thomasville','Tifton','Turin',\n",
    "                  'Valdosta','Warner Robins','Winder','Woodbine','Woodstock','Sandy Springs','Johns Creek']\n",
    "master_list_ga = ['GA','Georgia']"
   ]
  },
  {
   "cell_type": "code",
   "execution_count": 19,
   "metadata": {},
   "outputs": [],
   "source": [
    "georgia_only_df =georgiaReplaced.copy()\n",
    "\n",
    "georgia_only_df = georgiaReplaced.dropna(subset='location')\n",
    "georgia_only_df.loc[georgia_only_df['location']\n",
    "                    .str.contains(r'\\b(?:{})\\b'.format('|'.join(big_cities_ga))), 'location'] = 'big_city'\n",
    "georgia_only_df.loc[georgia_only_df['location']\n",
    "                    .str.contains(r'\\b(?:{})\\b'.format('|'.join(small_cities_ga))), 'location'] = 'small_city'\n",
    "georgia_only_df.loc[georgia_only_df['location']\n",
    "                    .str.contains(r'\\b(?:{})\\b'.format('|'.join(master_list_ga))), 'location'] = 'other_ga'\n",
    "georgia_only_df.loc[georgia_only_df['location']\n",
    "                    .apply(lambda x: x not in ['big_city','small_city','other_ga']), 'location']  = 'non_ga'"
   ]
  },
  {
   "cell_type": "code",
   "execution_count": 20,
   "metadata": {},
   "outputs": [
    {
     "name": "stderr",
     "output_type": "stream",
     "text": [
      "/tmp/ipykernel_28054/3958885582.py:1: SettingWithCopyWarning: \n",
      "A value is trying to be set on a copy of a slice from a DataFrame.\n",
      "Try using .loc[row_indexer,col_indexer] = value instead\n",
      "\n",
      "See the caveats in the documentation: https://pandas.pydata.org/pandas-docs/stable/user_guide/indexing.html#returning-a-view-versus-a-copy\n",
      "  georgia_only_df['concatenated_loc_text'] = georgia_only_df['location'] + \" \" + georgia_only_df['fixedText']\n"
     ]
    }
   ],
   "source": [
    "georgia_only_df['concatenated_loc_text'] = georgia_only_df['location'] + \" \" + georgia_only_df['fixedText']"
   ]
  },
  {
   "cell_type": "code",
   "execution_count": 25,
   "metadata": {},
   "outputs": [],
   "source": [
    "georgia_only_df=georgia_only_df[georgia_only_df['location'].isin([\"big_city\",\"small_city\"])]"
   ]
  },
  {
   "cell_type": "code",
   "execution_count": 26,
   "metadata": {},
   "outputs": [],
   "source": [
    "def calc_lift_city(candidate, location):\n",
    "    a_b=0\n",
    "    n_a=0\n",
    "    n_b=0\n",
    "    if(candidate==location):\n",
    "        return np.nan\n",
    "    for i in georgia_only_df.concatenated_loc_text:\n",
    "        words=word_tokenize(str(i))\n",
    "        a=set(words).intersection(set({candidate, location}))\n",
    "        if(len(a)==2):\n",
    "            a_b+=1\n",
    "            n_a+=1\n",
    "            n_b+=1\n",
    "        elif(len(a)==1):\n",
    "            if(a.pop()==candidate):\n",
    "                n_a+=1\n",
    "            else:\n",
    "                n_b+=1\n",
    "    if(n_a==0 or n_b==1):\n",
    "        return np.nan\n",
    "    else:\n",
    "        return a_b/(n_a*n_b)*len(georgia_only_df)\n",
    "\n",
    "liftValues_loc = pd.DataFrame(columns=[\"location\",\"warnock\",\"walker\"])\n",
    "\n",
    "chosen_location = [\"big_city\",\"small_city\"]\n",
    "liftValues_loc.location = chosen_location\n",
    "\n",
    "liftValues_loc.warnock=liftValues_loc.apply(lambda x: calc_lift_city(\"warnock\",str(x.location)),axis=1)\n",
    "liftValues_loc.walker=liftValues_loc.apply(lambda x: calc_lift_city(\"walker\",str(x.location)),axis=1)"
   ]
  },
  {
   "cell_type": "code",
   "execution_count": 27,
   "metadata": {},
   "outputs": [
    {
     "data": {
      "text/html": [
       "<div>\n",
       "<style scoped>\n",
       "    .dataframe tbody tr th:only-of-type {\n",
       "        vertical-align: middle;\n",
       "    }\n",
       "\n",
       "    .dataframe tbody tr th {\n",
       "        vertical-align: top;\n",
       "    }\n",
       "\n",
       "    .dataframe thead th {\n",
       "        text-align: right;\n",
       "    }\n",
       "</style>\n",
       "<table border=\"1\" class=\"dataframe\">\n",
       "  <thead>\n",
       "    <tr style=\"text-align: right;\">\n",
       "      <th></th>\n",
       "      <th>location</th>\n",
       "      <th>warnock</th>\n",
       "      <th>walker</th>\n",
       "    </tr>\n",
       "  </thead>\n",
       "  <tbody>\n",
       "    <tr>\n",
       "      <th>0</th>\n",
       "      <td>big_city</td>\n",
       "      <td>0.927643</td>\n",
       "      <td>1.004884</td>\n",
       "    </tr>\n",
       "    <tr>\n",
       "      <th>1</th>\n",
       "      <td>small_city</td>\n",
       "      <td>1.209130</td>\n",
       "      <td>0.985884</td>\n",
       "    </tr>\n",
       "  </tbody>\n",
       "</table>\n",
       "</div>"
      ],
      "text/plain": [
       "     location   warnock    walker\n",
       "0    big_city  0.927643  1.004884\n",
       "1  small_city  1.209130  0.985884"
      ]
     },
     "execution_count": 27,
     "metadata": {},
     "output_type": "execute_result"
    }
   ],
   "source": [
    "liftValues_loc"
   ]
  },
  {
   "cell_type": "code",
   "execution_count": 38,
   "metadata": {},
   "outputs": [],
   "source": [
    "def sentiment_city(location:str, candidate:str, window=256):\n",
    "    for i in georgia_only_df.concatenated_loc_text:\n",
    "        words=word_tokenize(str(i))\n",
    "        stop_words = set(stopwords.words('english'))\n",
    "        words = [word for word in words if word not in stop_words]\n",
    "        words = [word for word in words if word not in add_punc]\n",
    "        if(len(set(words).intersection(set({location,candidate})))==2):\n",
    "            a = ' '.join(e for e in words)\n",
    "            if a != \"\":\n",
    "                sentiment_score = analyzer.polarity_scores(a)['compound']\n",
    "                scores.append(sentiment_score)\n",
    "    return np.mean(scores)\n",
    "\n",
    "\n",
    "sentiment_all = pd.DataFrame(columns=[\"location\",\"warnock\",\"walker\"])\n",
    "chosen_location = [\"big_city\",\"small_city\"]\n",
    "sentiment_all.location = chosen_location\n",
    "\n",
    "sentiment_all.warnock=sentiment_all.apply(lambda x: sentiment_city(str(x.location),\"warnock\"),axis=1)\n",
    "sentiment_all.walker=sentiment_all.apply(lambda x: sentiment_city(str(x.location),\"walker\"),axis=1)\n",
    "sentiment_all.columns=['location','sentiment_warnock','sentiment_walker']"
   ]
  },
  {
   "cell_type": "code",
   "execution_count": 39,
   "metadata": {},
   "outputs": [],
   "source": [
    "georgia_sent=pd.merge(liftValues_loc,sentiment_all,left_on='location',right_on='location')"
   ]
  },
  {
   "cell_type": "code",
   "execution_count": 40,
   "metadata": {},
   "outputs": [
    {
     "data": {
      "text/html": [
       "<div>\n",
       "<style scoped>\n",
       "    .dataframe tbody tr th:only-of-type {\n",
       "        vertical-align: middle;\n",
       "    }\n",
       "\n",
       "    .dataframe tbody tr th {\n",
       "        vertical-align: top;\n",
       "    }\n",
       "\n",
       "    .dataframe thead th {\n",
       "        text-align: right;\n",
       "    }\n",
       "</style>\n",
       "<table border=\"1\" class=\"dataframe\">\n",
       "  <thead>\n",
       "    <tr style=\"text-align: right;\">\n",
       "      <th></th>\n",
       "      <th>location</th>\n",
       "      <th>warnock</th>\n",
       "      <th>walker</th>\n",
       "      <th>sentiment_warnock</th>\n",
       "      <th>sentiment_walker</th>\n",
       "    </tr>\n",
       "  </thead>\n",
       "  <tbody>\n",
       "    <tr>\n",
       "      <th>0</th>\n",
       "      <td>big_city</td>\n",
       "      <td>0.927643</td>\n",
       "      <td>1.004884</td>\n",
       "      <td>0.032088</td>\n",
       "      <td>0.034346</td>\n",
       "    </tr>\n",
       "    <tr>\n",
       "      <th>1</th>\n",
       "      <td>small_city</td>\n",
       "      <td>1.209130</td>\n",
       "      <td>0.985884</td>\n",
       "      <td>0.030715</td>\n",
       "      <td>0.032662</td>\n",
       "    </tr>\n",
       "  </tbody>\n",
       "</table>\n",
       "</div>"
      ],
      "text/plain": [
       "     location   warnock    walker  sentiment_warnock  sentiment_walker\n",
       "0    big_city  0.927643  1.004884           0.032088          0.034346\n",
       "1  small_city  1.209130  0.985884           0.030715          0.032662"
      ]
     },
     "execution_count": 40,
     "metadata": {},
     "output_type": "execute_result"
    }
   ],
   "source": [
    "georgia_sent"
   ]
  }
 ],
 "metadata": {
  "kernelspec": {
   "display_name": "Python 3.8.10 64-bit",
   "language": "python",
   "name": "python3"
  },
  "language_info": {
   "codemirror_mode": {
    "name": "ipython",
    "version": 3
   },
   "file_extension": ".py",
   "mimetype": "text/x-python",
   "name": "python",
   "nbconvert_exporter": "python",
   "pygments_lexer": "ipython3",
   "version": "3.8.10"
  },
  "vscode": {
   "interpreter": {
    "hash": "31f2aee4e71d21fbe5cf8b01ff0e069b9275f58929596ceb00d14d90e3e16cd6"
   }
  }
 },
 "nbformat": 4,
 "nbformat_minor": 2
}
